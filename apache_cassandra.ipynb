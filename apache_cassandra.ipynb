{
 "cells": [
  {
   "cell_type": "markdown",
   "metadata": {
    "editable": true
   },
   "source": [
    "# Part I. ETL Pipeline for Pre-Processing the Files"
   ]
  },
  {
   "cell_type": "markdown",
   "metadata": {
    "editable": true
   },
   "source": [
    "## PLEASE RUN THE FOLLOWING CODE FOR PRE-PROCESSING THE FILES"
   ]
  },
  {
   "cell_type": "markdown",
   "metadata": {
    "editable": true
   },
   "source": [
    "#### Import Python packages "
   ]
  },
  {
   "cell_type": "code",
   "execution_count": 1,
   "metadata": {
    "editable": true
   },
   "outputs": [],
   "source": [
    "# Import Python packages \n",
    "import pandas as pd\n",
    "import cassandra\n",
    "import re\n",
    "import os\n",
    "import glob\n",
    "import numpy as np\n",
    "import json\n",
    "import csv"
   ]
  },
  {
   "cell_type": "markdown",
   "metadata": {
    "editable": true
   },
   "source": [
    "#### Creating list of filepaths to process original event csv data files"
   ]
  },
  {
   "cell_type": "code",
   "execution_count": 2,
   "metadata": {
    "editable": true
   },
   "outputs": [],
   "source": [
    "rm -rf `find -type d -name .ipynb_checkpoints`"
   ]
  },
  {
   "cell_type": "code",
   "execution_count": 3,
   "metadata": {
    "editable": true
   },
   "outputs": [],
   "source": [
    "# Get your current folder and subfolder event data\n",
    "filepath = os.getcwd() + '/event_data'\n",
    "\n",
    "#Create a for loop to create a list of files and collect each filepath\n",
    "for root, dirs, files in os.walk(filepath):\n",
    "    \n",
    "    # join the file path and roots with the subdirectories using glob\n",
    "    file_path_list = glob.glob(os.path.join(root, '*'))\n",
    "    "
   ]
  },
  {
   "cell_type": "markdown",
   "metadata": {
    "editable": true
   },
   "source": [
    "#### Processing the files to create the data file csv that will be used for Apache Casssandra tables"
   ]
  },
  {
   "cell_type": "code",
   "execution_count": 4,
   "metadata": {
    "editable": true
   },
   "outputs": [],
   "source": [
    "# initiating an empty list of rows that will be generated from each file\n",
    "full_data_rows_list = [] \n",
    "    \n",
    "# for every filepath in the file path list \n",
    "for f in file_path_list:\n",
    "\n",
    "    # reading csv file \n",
    "    with open(f, 'r', encoding = 'utf8', newline='') as csvfile: \n",
    "        \n",
    "        # creating a csv reader object \n",
    "        csvreader = csv.reader(csvfile) \n",
    "        next(csvreader)\n",
    "        \n",
    "        # extracting each data row one by one and append it        \n",
    "        for line in csvreader:\n",
    "            full_data_rows_list.append(line)\n",
    "\n",
    "# creating a smaller event data csv file called event_datafile_new csv that\n",
    "# will be used to insert data into the Apache Cassandra tables\n",
    "csv.register_dialect('myDialect', quoting=csv.QUOTE_ALL, skipinitialspace=True)\n",
    "\n",
    "with open('event_datafile_new.csv', 'w', encoding = 'utf8', newline='') as f:\n",
    "    writer = csv.writer(f, dialect='myDialect')\n",
    "    writer.writerow(['artist','firstName','gender','itemInSession','lastName','length',\\\n",
    "                'level','location','sessionId','song','userId'])\n",
    "    for row in full_data_rows_list:\n",
    "        if (row[0] == ''):\n",
    "            continue\n",
    "        writer.writerow((row[0], row[2], row[3], row[4], row[5], row[6], row[7], row[8], row[12], row[13], row[16]))"
   ]
  },
  {
   "cell_type": "code",
   "execution_count": 5,
   "metadata": {
    "editable": true
   },
   "outputs": [
    {
     "name": "stdout",
     "output_type": "stream",
     "text": [
      "6821\n"
     ]
    }
   ],
   "source": [
    "# check the number of rows in your csv file\n",
    "with open('event_datafile_new.csv', 'r', encoding = 'utf8') as f:\n",
    "    print(sum(1 for line in f))"
   ]
  },
  {
   "cell_type": "code",
   "execution_count": 6,
   "metadata": {
    "editable": true
   },
   "outputs": [
    {
     "data": {
      "text/html": [
       "<div>\n",
       "<style scoped>\n",
       "    .dataframe tbody tr th:only-of-type {\n",
       "        vertical-align: middle;\n",
       "    }\n",
       "\n",
       "    .dataframe tbody tr th {\n",
       "        vertical-align: top;\n",
       "    }\n",
       "\n",
       "    .dataframe thead th {\n",
       "        text-align: right;\n",
       "    }\n",
       "</style>\n",
       "<table border=\"1\" class=\"dataframe\">\n",
       "  <thead>\n",
       "    <tr style=\"text-align: right;\">\n",
       "      <th></th>\n",
       "      <th>artist</th>\n",
       "      <th>firstName</th>\n",
       "      <th>gender</th>\n",
       "      <th>itemInSession</th>\n",
       "      <th>lastName</th>\n",
       "      <th>length</th>\n",
       "      <th>level</th>\n",
       "      <th>location</th>\n",
       "      <th>sessionId</th>\n",
       "      <th>song</th>\n",
       "      <th>userId</th>\n",
       "    </tr>\n",
       "  </thead>\n",
       "  <tbody>\n",
       "    <tr>\n",
       "      <th>0</th>\n",
       "      <td>Stephen Lynch</td>\n",
       "      <td>Jayden</td>\n",
       "      <td>M</td>\n",
       "      <td>0</td>\n",
       "      <td>Bell</td>\n",
       "      <td>182.85669</td>\n",
       "      <td>free</td>\n",
       "      <td>Dallas-Fort Worth-Arlington, TX</td>\n",
       "      <td>829</td>\n",
       "      <td>Jim Henson's Dead</td>\n",
       "      <td>91</td>\n",
       "    </tr>\n",
       "    <tr>\n",
       "      <th>1</th>\n",
       "      <td>Manowar</td>\n",
       "      <td>Jacob</td>\n",
       "      <td>M</td>\n",
       "      <td>0</td>\n",
       "      <td>Klein</td>\n",
       "      <td>247.56200</td>\n",
       "      <td>paid</td>\n",
       "      <td>Tampa-St. Petersburg-Clearwater, FL</td>\n",
       "      <td>1049</td>\n",
       "      <td>Shell Shock</td>\n",
       "      <td>73</td>\n",
       "    </tr>\n",
       "    <tr>\n",
       "      <th>2</th>\n",
       "      <td>Morcheeba</td>\n",
       "      <td>Jacob</td>\n",
       "      <td>M</td>\n",
       "      <td>1</td>\n",
       "      <td>Klein</td>\n",
       "      <td>257.41016</td>\n",
       "      <td>paid</td>\n",
       "      <td>Tampa-St. Petersburg-Clearwater, FL</td>\n",
       "      <td>1049</td>\n",
       "      <td>Women Lose Weight (Feat: Slick Rick)</td>\n",
       "      <td>73</td>\n",
       "    </tr>\n",
       "    <tr>\n",
       "      <th>3</th>\n",
       "      <td>Maroon 5</td>\n",
       "      <td>Jacob</td>\n",
       "      <td>M</td>\n",
       "      <td>2</td>\n",
       "      <td>Klein</td>\n",
       "      <td>231.23546</td>\n",
       "      <td>paid</td>\n",
       "      <td>Tampa-St. Petersburg-Clearwater, FL</td>\n",
       "      <td>1049</td>\n",
       "      <td>Won't Go Home Without You</td>\n",
       "      <td>73</td>\n",
       "    </tr>\n",
       "    <tr>\n",
       "      <th>4</th>\n",
       "      <td>Train</td>\n",
       "      <td>Jacob</td>\n",
       "      <td>M</td>\n",
       "      <td>3</td>\n",
       "      <td>Klein</td>\n",
       "      <td>216.76363</td>\n",
       "      <td>paid</td>\n",
       "      <td>Tampa-St. Petersburg-Clearwater, FL</td>\n",
       "      <td>1049</td>\n",
       "      <td>Hey_ Soul Sister</td>\n",
       "      <td>73</td>\n",
       "    </tr>\n",
       "  </tbody>\n",
       "</table>\n",
       "</div>"
      ],
      "text/plain": [
       "          artist firstName gender  itemInSession lastName     length level  \\\n",
       "0  Stephen Lynch    Jayden      M              0     Bell  182.85669  free   \n",
       "1        Manowar     Jacob      M              0    Klein  247.56200  paid   \n",
       "2      Morcheeba     Jacob      M              1    Klein  257.41016  paid   \n",
       "3       Maroon 5     Jacob      M              2    Klein  231.23546  paid   \n",
       "4          Train     Jacob      M              3    Klein  216.76363  paid   \n",
       "\n",
       "                              location  sessionId  \\\n",
       "0      Dallas-Fort Worth-Arlington, TX        829   \n",
       "1  Tampa-St. Petersburg-Clearwater, FL       1049   \n",
       "2  Tampa-St. Petersburg-Clearwater, FL       1049   \n",
       "3  Tampa-St. Petersburg-Clearwater, FL       1049   \n",
       "4  Tampa-St. Petersburg-Clearwater, FL       1049   \n",
       "\n",
       "                                   song  userId  \n",
       "0                     Jim Henson's Dead      91  \n",
       "1                           Shell Shock      73  \n",
       "2  Women Lose Weight (Feat: Slick Rick)      73  \n",
       "3             Won't Go Home Without You      73  \n",
       "4                      Hey_ Soul Sister      73  "
      ]
     },
     "execution_count": 6,
     "metadata": {},
     "output_type": "execute_result"
    }
   ],
   "source": [
    "import pandas as pd\n",
    "event = pd.read_csv('event_datafile_new.csv')\n",
    "event.head()"
   ]
  },
  {
   "cell_type": "markdown",
   "metadata": {
    "editable": true
   },
   "source": [
    "# Part II. Complete the Apache Cassandra coding portion of your project. \n",
    "\n",
    "## Now you are ready to work with the CSV file titled <font color=red>event_datafile_new.csv</font>, located within the Workspace directory.  The event_datafile_new.csv contains the following columns: \n",
    "- artist \n",
    "- firstName of user\n",
    "- gender of user\n",
    "- item number in session\n",
    "- last name of user\n",
    "- length of the song\n",
    "- level (paid or free song)\n",
    "- location of the user\n",
    "- sessionId\n",
    "- song title\n",
    "- userId\n",
    "\n",
    "The image below is a screenshot of what the denormalized data should appear like in the <font color=red>**event_datafile_new.csv**</font> after the code above is run:<br>\n",
    "\n",
    "<img src=\"images/image_event_datafile_new.jpg\">"
   ]
  },
  {
   "cell_type": "markdown",
   "metadata": {
    "editable": true
   },
   "source": [
    "## Begin writing your Apache Cassandra code in the cells below"
   ]
  },
  {
   "cell_type": "markdown",
   "metadata": {
    "editable": true
   },
   "source": [
    "#### Creating a Cluster"
   ]
  },
  {
   "cell_type": "code",
   "execution_count": 7,
   "metadata": {
    "editable": true
   },
   "outputs": [],
   "source": [
    "# This should make a connection to a Cassandra instance your local machine \n",
    "# (127.0.0.1)\n",
    "\n",
    "from cassandra.cluster import Cluster\n",
    "\n",
    "\n",
    "# To establish connection and begin executing queries, need a session\n",
    "try:\n",
    "    cluster = Cluster([\"127.0.0.1\"])\n",
    "    session = cluster.connect()\n",
    "except Exception as e:\n",
    "    print(e)"
   ]
  },
  {
   "cell_type": "markdown",
   "metadata": {
    "editable": true
   },
   "source": [
    "#### Create Keyspace"
   ]
  },
  {
   "cell_type": "code",
   "execution_count": 8,
   "metadata": {
    "editable": true
   },
   "outputs": [],
   "source": [
    "# TO-DO: Create a Keyspace\n",
    "try:\n",
    "    session.execute(\"\"\"\n",
    "    CREATE KEYSPACE IF NOT EXISTS udacity\n",
    "    WITH REPLICATION = \n",
    "    {'class' : 'SimpleStrategy', 'replication_factor' : 1}\n",
    "    \"\"\")\n",
    "except Exception as e:\n",
    "    print(e)"
   ]
  },
  {
   "cell_type": "markdown",
   "metadata": {
    "editable": true
   },
   "source": [
    "#### Set Keyspace"
   ]
  },
  {
   "cell_type": "code",
   "execution_count": 9,
   "metadata": {
    "editable": true
   },
   "outputs": [],
   "source": [
    "# TO-DO: Set KEYSPACE to the keyspace specified above\n",
    "try:\n",
    "    session.set_keyspace(\"udacity\")\n",
    "except Exception as e:\n",
    "    print(e)"
   ]
  },
  {
   "cell_type": "markdown",
   "metadata": {
    "editable": true
   },
   "source": [
    "## Create queries to ask the following three questions of the data\n",
    "\n",
    "#### 1. Give me the artist, song title and song's length in the music app history that was heard during  sessionId = 338, and itemInSession  = 4\n",
    "\n",
    "\n",
    "#### 2. Give me only the following: name of artist, song (sorted by itemInSession) and user (first and last name) for userid = 10, sessionid = 182\n",
    "    \n",
    "\n",
    "#### 3. Give me every user name (first and last) in my music app history who listened to the song 'All Hands Against His Own'3\n",
    "\n",
    "\n"
   ]
  },
  {
   "cell_type": "markdown",
   "metadata": {
    "editable": true
   },
   "source": [
    "## Query 1:\n",
    "1. Give me the artist, song title and song's length in the music app history that was heard during sessionId = 338, and itemInSession = 4\n",
    "\n",
    "__________________________________________________________________________________________________________________\n",
    "### Answer\n",
    "\n",
    "#### Table Description\n",
    "The given task states that we obtain first and last name of every user in the music app that listened to \"All hands against his own\"\n",
    "\n",
    "#### What kind of features do we need?\n",
    "The table will consists of;\n",
    "1. artist\n",
    "2. ItemInSession\n",
    "3. length\n",
    "4. level\n",
    "5. sessionId\n",
    "6. song\n",
    "\n",
    "The primary key for this table will be \"sessionId\" and \"itemInSession\" \n",
    "1. \"sessionId\" will be the partition key\n",
    "2. itemInSession will be the clustering column due to the uniquessness of itemInSession"
   ]
  },
  {
   "cell_type": "code",
   "execution_count": 13,
   "metadata": {
    "editable": true
   },
   "outputs": [],
   "source": [
    "try:\n",
    "    session.execute(\"\"\"\n",
    "    CREATE TABLE IF NOT EXISTS song_library \n",
    "    (artist text, \n",
    "    itemInSession int, \n",
    "    length float , \n",
    "    level text , \n",
    "    sessionId int , \n",
    "    song text , \n",
    "    PRIMARY KEY (sessionId, itemInSession))\n",
    "    \"\"\")\n",
    "except Exception as e:\n",
    "    print(\"Error creating table\")\n",
    "    print(e)"
   ]
  },
  {
   "cell_type": "markdown",
   "metadata": {
    "editable": true
   },
   "source": [
    "#### Note! Be sure to take note of the oreder within the partion,  The partiton and clustering keys must be displayed first"
   ]
  },
  {
   "cell_type": "code",
   "execution_count": 14,
   "metadata": {
    "editable": true
   },
   "outputs": [],
   "source": [
    "file = 'event_datafile_new.csv'\n",
    "\n",
    "# Insert expected data into song_plays_by_session\n",
    "with open(file, encoding = 'utf8') as f:\n",
    "    csvreader = csv.reader(f)\n",
    "    next(csvreader) # skip header\n",
    "    for line in csvreader:\n",
    "        query = \"INSERT INTO song_library(sessionId, itemInSession, artist, song, length)\"\n",
    "        query = query + \" VALUES (%s, %s, %s, %s, %s)\"\n",
    "        session.execute(query, (int(line[8]), int(line[3]), line[0], line[9], float(line[5])))"
   ]
  },
  {
   "cell_type": "markdown",
   "metadata": {
    "editable": true
   },
   "source": [
    "#### Do a SELECT to verify that the data have been inserted into each table\n",
    "\n",
    "1. First we create a function called \"select\" for perfroming the select task\n",
    "3. Next we call the select fucntion and pass our queries"
   ]
  },
  {
   "cell_type": "code",
   "execution_count": 15,
   "metadata": {
    "editable": true
   },
   "outputs": [],
   "source": [
    "def select(query):\n",
    "    \"\"\"Execute a query to select specific table values\"\"\"\n",
    "    try:\n",
    "        rows = session.execute(query)\n",
    "    except Exception as e:\n",
    "        print(e)\n",
    "\n",
    "    for row in rows:\n",
    "        print (list(row))"
   ]
  },
  {
   "cell_type": "code",
   "execution_count": 17,
   "metadata": {
    "editable": true,
    "scrolled": true
   },
   "outputs": [
    {
     "name": "stdout",
     "output_type": "stream",
     "text": [
      "['Faithless', 'Music Matters (Mark Knight Dub)', 495.30731201171875]\n"
     ]
    }
   ],
   "source": [
    "## TO-DO: Add in the SELECT statement to verify the data was entered into the table\n",
    "## TO-DO: Query 1:  Give me the artist, song title and song's length in the music app history that was heard during \\\n",
    "## sessionId = 338, and itemInSession = 4\n",
    "select((\"SELECT artist, song, length FROM song_library WHERE sessionId=338 AND itemInSession=4\"))"
   ]
  },
  {
   "cell_type": "markdown",
   "metadata": {
    "editable": true
   },
   "source": [
    "## Query 2:\n",
    "Give me only the following: name of artist, song (sorted by itemInSession) and user (first and last name)\\\n",
    "for userid = 10, sessionid = 182"
   ]
  },
  {
   "cell_type": "code",
   "execution_count": 27,
   "metadata": {
    "editable": true
   },
   "outputs": [],
   "source": [
    "try:\n",
    "    session.execute(\"\"\"\n",
    "   CREATE TABLE IF NOT EXISTS song_library_by_user(\n",
    "        userId int,\n",
    "        sessionId int,\n",
    "        itemInSession int,\n",
    "        artist text,\n",
    "        song text,\n",
    "        firstName text,\n",
    "        lastName text,\n",
    "        PRIMARY KEY (userId, sessionId, itemInSession)\n",
    "    )\n",
    "    \"\"\")\n",
    "except Exception as e:\n",
    "    print(\"Error creating table\")\n",
    "    print(e)"
   ]
  },
  {
   "cell_type": "markdown",
   "metadata": {
    "editable": true
   },
   "source": [
    "#### Note! Be sure to take note of the oreder within the partion,  The partiton and clustering keys must be displayed first"
   ]
  },
  {
   "cell_type": "code",
   "execution_count": 21,
   "metadata": {
    "editable": true
   },
   "outputs": [],
   "source": [
    "file = 'event_datafile_new.csv'\n",
    "\n",
    "# Insert expected data into song_plays_by_user_session\n",
    "with open(file, encoding = 'utf8') as f:\n",
    "    csvreader = csv.reader(f)\n",
    "    next(csvreader) # skip header\n",
    "    for line in csvreader:\n",
    "        query = \"INSERT INTO song_library_by_user (userId, sessionId, itemInSession, artist, song, firstName, lastName)\"\n",
    "        query = query + \" VALUES (%s, %s, %s, %s, %s, %s, %s)\"\n",
    "        session.execute(query, (int(line[10]), int(line[8]), int(line[3]), line[0], line[9], line[1], line[4]))"
   ]
  },
  {
   "cell_type": "markdown",
   "metadata": {
    "editable": true
   },
   "source": [
    "#### To test our tables,  lets perform a select operation to print out a particular result "
   ]
  },
  {
   "cell_type": "code",
   "execution_count": 22,
   "metadata": {
    "editable": true
   },
   "outputs": [
    {
     "name": "stdout",
     "output_type": "stream",
     "text": [
      "[182, 'Down To The Bone', 'Sylvie', 'Cruz']\n",
      "[182, 'Three Drives', 'Sylvie', 'Cruz']\n",
      "[182, 'Sebastien Tellier', 'Sylvie', 'Cruz']\n",
      "[182, 'Lonnie Gordon', 'Sylvie', 'Cruz']\n"
     ]
    }
   ],
   "source": [
    "select(\"SELECT sessionId, artist, firstName, lastName FROM song_library_by_user WHERE userId=10 AND sessionId=182\")"
   ]
  },
  {
   "cell_type": "markdown",
   "metadata": {
    "editable": true
   },
   "source": [
    "## Query 3:\n",
    "Give me every user name (first and last) in my music app history who listened to the song 'All Hands Against His Own'\n"
   ]
  },
  {
   "cell_type": "markdown",
   "metadata": {
    "editable": true
   },
   "source": [
    "__________________________________________________________________________________________________________________\n",
    "### Answer\n",
    "\n",
    "#### Table Description\n",
    "The given task states that we obtain first and last name of every user in the music app that listened to \"All hands against his own\"\n",
    "\n",
    "#### What kind of features do we need?\n",
    "The table will consists of;\n",
    "1. First Name\n",
    "2. Last Name\n",
    "3. User ID\n",
    "4. Song\n",
    "\n",
    "The primary key for this table will be \"Song\" and UserId, where \n",
    "1. \"Song\" will be the partition key\n",
    "2. userId will be the clustering column due to the unniqueness of the Song column\n"
   ]
  },
  {
   "cell_type": "code",
   "execution_count": 23,
   "metadata": {
    "editable": true
   },
   "outputs": [],
   "source": [
    "try:\n",
    "    session.execute(\"\"\"\n",
    "   CREATE TABLE IF NOT EXISTS song_library_by_song(\n",
    "        firstName text,\n",
    "        lastName text,\n",
    "        userId int,\n",
    "        song text,\n",
    "        PRIMARY KEY (song, userId)\n",
    "    )\n",
    "    \"\"\")\n",
    "except Exception as e:\n",
    "    print(\"Error creating table\")\n",
    "    print(e)\n",
    "    "
   ]
  },
  {
   "cell_type": "markdown",
   "metadata": {
    "editable": true
   },
   "source": [
    "#### Note! Be sure to take note of the oreder within the partion,  The partiton and clustering keys must be displayed first"
   ]
  },
  {
   "cell_type": "code",
   "execution_count": 24,
   "metadata": {
    "editable": true
   },
   "outputs": [],
   "source": [
    "file = 'event_datafile_new.csv'\n",
    "\n",
    "# Insert expected data into song_plays_by_user_session\n",
    "with open(file, encoding = 'utf8') as f:\n",
    "    csvreader = csv.reader(f)\n",
    "    next(csvreader) # skip header\n",
    "    for line in csvreader:\n",
    "        query = \"INSERT INTO song_library_by_song (firstName, lastName,userId ,song)\"\n",
    "        query = query + \" VALUES (%s, %s, %s, %s)\"\n",
    "        session.execute(query, (line[1], line[4], int(line[10]), line[9]))\n",
    "      "
   ]
  },
  {
   "cell_type": "markdown",
   "metadata": {
    "editable": true
   },
   "source": [
    "#### To test our tables,  lets perform a select operation to print out a particular result "
   ]
  },
  {
   "cell_type": "code",
   "execution_count": 25,
   "metadata": {
    "editable": true
   },
   "outputs": [
    {
     "name": "stdout",
     "output_type": "stream",
     "text": [
      "['Jacqueline', 'Lynch']\n",
      "['Tegan', 'Levine']\n",
      "['Sara', 'Johnson']\n"
     ]
    }
   ],
   "source": [
    "select(\"SELECT firstName, lastName FROM song_library_by_song WHERE song='All Hands Against His Own'\")"
   ]
  },
  {
   "cell_type": "markdown",
   "metadata": {
    "editable": true
   },
   "source": [
    "### Drop the tables before closing out the sessions"
   ]
  },
  {
   "cell_type": "code",
   "execution_count": 25,
   "metadata": {
    "editable": true
   },
   "outputs": [
    {
     "data": {
      "text/plain": [
       "<cassandra.cluster.ResultSet at 0x7f5145b3d630>"
      ]
     },
     "execution_count": 25,
     "metadata": {},
     "output_type": "execute_result"
    }
   ],
   "source": [
    "## TO-DO: Drop the table before closing out the sessions\n",
    "session.execute(\"DROP TABLE IF EXISTS song_library\")\n",
    "session.execute(\"DROP TABLE IF EXISTS song_library_by_user\")\n",
    "session.execute(\"DROP TABLE IF EXISTS song_library_by_song\")"
   ]
  },
  {
   "cell_type": "markdown",
   "metadata": {
    "editable": true
   },
   "source": [
    "### Close the session and cluster connection¶"
   ]
  },
  {
   "cell_type": "code",
   "execution_count": 26,
   "metadata": {
    "editable": true
   },
   "outputs": [],
   "source": [
    "session.shutdown()\n",
    "cluster.shutdown()"
   ]
  },
  {
   "cell_type": "code",
   "execution_count": 28,
   "metadata": {
    "editable": true
   },
   "outputs": [
    {
     "name": "stdout",
     "output_type": "stream",
     "text": [
      "apache_cassandra.ipynb\n",
      "event_data/\n",
      "event_data/2018-11-30-events.csv\n",
      "event_data/2018-11-23-events.csv\n",
      "event_data/2018-11-22-events.csv\n",
      "event_data/2018-11-29-events.csv\n",
      "event_data/2018-11-11-events.csv\n",
      "event_data/2018-11-14-events.csv\n",
      "event_data/2018-11-20-events.csv\n",
      "event_data/2018-11-15-events.csv\n",
      "event_data/2018-11-05-events.csv\n",
      "event_data/2018-11-28-events.csv\n",
      "event_data/2018-11-25-events.csv\n",
      "event_data/2018-11-16-events.csv\n",
      "event_data/2018-11-18-events.csv\n",
      "event_data/2018-11-24-events.csv\n",
      "event_data/2018-11-04-events.csv\n",
      "event_data/2018-11-19-events.csv\n",
      "event_data/2018-11-26-events.csv\n",
      "event_data/2018-11-12-events.csv\n",
      "event_data/2018-11-27-events.csv\n",
      "event_data/2018-11-06-events.csv\n",
      "event_data/2018-11-09-events.csv\n",
      "event_data/2018-11-03-events.csv\n",
      "event_data/2018-11-21-events.csv\n",
      "event_data/2018-11-07-events.csv\n",
      "event_data/2018-11-01-events.csv\n",
      "event_data/2018-11-13-events.csv\n",
      "event_data/2018-11-17-events.csv\n",
      "event_data/2018-11-08-events.csv\n",
      "event_data/2018-11-10-events.csv\n",
      "event_data/2018-11-02-events.csv\n",
      "event_datafile_new.csv\n",
      "images/\n",
      "images/image_event_datafile_new.jpg\n"
     ]
    }
   ],
   "source": [
    "!tar cvfz correctfiles.tar.gz *"
   ]
  },
  {
   "cell_type": "code",
   "execution_count": null,
   "metadata": {
    "editable": true
   },
   "outputs": [],
   "source": []
  },
  {
   "cell_type": "markdown",
   "metadata": {
    "editable": true
   },
   "source": [
    "__________________________________________________________________________________________________________________\n",
    "### Answer\n",
    "\n",
    "#### Table Description\n",
    "The given task states that we obtain first and last name of every user in the music app that listened to \"All hands against his own\"\n",
    "\n",
    "#### What kind of features do we need?\n",
    "The table will consists of;\n",
    "1. UserId\n",
    "2. SessionId\n",
    "3. ItemInSession\n",
    "4. artist\n",
    "5. firstName\n",
    "6. lastName\n",
    "\n",
    "The primary key for this table will be \"userId\" and \"SessionId\" and \"itemInSession\" \n",
    "1. \"userId\" will be the partition key\n",
    "2. SessionId and itemInSession will be the clustering column\n"
   ]
  }
 ],
 "metadata": {
  "kernelspec": {
   "display_name": "Python 3",
   "language": "python",
   "name": "python3"
  },
  "language_info": {
   "codemirror_mode": {
    "name": "ipython",
    "version": 3
   },
   "file_extension": ".py",
   "mimetype": "text/x-python",
   "name": "python",
   "nbconvert_exporter": "python",
   "pygments_lexer": "ipython3",
   "version": "3.6.3"
  }
 },
 "nbformat": 4,
 "nbformat_minor": 4
}
